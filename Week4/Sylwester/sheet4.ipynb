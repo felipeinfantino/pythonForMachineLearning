{
 "cells": [
  {
   "cell_type": "markdown",
   "metadata": {},
   "source": [
    "## Before submitting\n",
    "1. Before you turn this problem in, make sure everything runs as expected. First, **restart the kernel** (in the menubar, select Kernel$\\rightarrow$Restart) and then **run all cells** (in the menubar, select Cell$\\rightarrow$Run All).\n",
    "\n",
    "2. Make sure that no assertions fail or exceptions occur, otherwise points will be subtracted.\n",
    "\n",
    "3. Please submit only the `*.ipynb` file.\n",
    "\n",
    "4. Make sure you fill in any place that says `YOUR CODE HERE` or \"YOUR ANSWER HERE\". Edit only between `YOUR CODE HERE` and `END YOUR CODE`.\n",
    "\n",
    "5. Make sure to use Python 3, not Python 2.\n",
    "\n",
    "Fill your group name and collaborators below:"
   ]
  },
  {
   "cell_type": "code",
   "execution_count": 1,
   "metadata": {},
   "outputs": [],
   "source": [
    "GROUPNAME = \"Group077\"\n",
    "COLLABORATORS = \"Felipe Infantino Moreno, Sylwester Maksymilian Karol Sawicki\""
   ]
  },
  {
   "cell_type": "markdown",
   "metadata": {},
   "source": [
    "---"
   ]
  },
  {
   "cell_type": "markdown",
   "metadata": {},
   "source": [
    "# Exercise Sheet 4: Sampling, Simulation"
   ]
  },
  {
   "cell_type": "markdown",
   "metadata": {},
   "source": [
    "In this exercise sheet, we will simulate a Markov chain. In the first part, we will consider a pure Python based implementation where a single particle jumps from one position to another of the lattice, where all transitions to neighboring states have the same probability. Then, we will add probabilities for the transitions. Finally, the implementation will be parallelized to run many chains in parallel.\n",
    "\n",
    "Keep in mind that you can get the documentation of modules and functions using the `help()` function."
   ]
  },
  {
   "cell_type": "code",
   "execution_count": 2,
   "metadata": {},
   "outputs": [],
   "source": [
    "%matplotlib inline"
   ]
  },
  {
   "cell_type": "markdown",
   "metadata": {
    "collapsed": true
   },
   "source": [
    "## Exercise 1: Random moves in a lattice (20 P)\n",
    "\n",
    "In this exercise, we will simulate the propagation of particles in a graph composed of 8 states (denoted by letters A-H) and stored in the variable `S` defined in the cell below. The lattice is the following:\n",
    "\n",
    "![](lattice.png)\n",
    "\n",
    "The particle starts in state `A` and then jumps randomly from its current state to one of its neighbors, all with same probability. Note that it cannot stay at the current position. The dictionary `T` defined in the cell below encode such transition behavior."
   ]
  },
  {
   "cell_type": "code",
   "execution_count": 3,
   "metadata": {},
   "outputs": [
    {
     "name": "stdout",
     "output_type": "stream",
     "text": [
      "States: ['A', 'B', 'C', 'D', 'E', 'F', 'G', 'H']\n",
      "Transitions: {'A': 'BE', 'B': 'AFC', 'C': 'BGD', 'D': 'CH', 'E': 'AF', 'F': 'EBG', 'G': 'FCH', 'H': 'GD'}\n"
     ]
    }
   ],
   "source": [
    "# List of states\n",
    "S = list('ABCDEFGH')\n",
    "\n",
    "# Dictionary of transitions\n",
    "T = {'A': 'BE', 'B': 'AFC', 'C': 'BGD', 'D': 'CH', 'E': 'AF', 'F': 'EBG', 'G': 'FCH', 'H': 'GD'}\n",
    "print(\"States: {}\".format(S))\n",
    "print(\"Transitions: {}\".format(T))"
   ]
  },
  {
   "cell_type": "markdown",
   "metadata": {},
   "source": [
    "Using pure Python, simulate the experiment and run it for 1999 iterations starting in state `A`. Return the sequence of states visited by the particle as a list. Set the random seed of the module `random` to value `123` using the function `random.seed` before starting the simulation in order to produce deterministic results."
   ]
  },
  {
   "cell_type": "code",
   "execution_count": 4,
   "metadata": {
    "deletable": false,
    "nbgrader": {
     "checksum": "4105a72b5a622ee214dd7b9c902c4496",
     "grade": false,
     "grade_id": "cell-be8591ff18527982",
     "locked": false,
     "schema_version": 1,
     "solution": true
    }
   },
   "outputs": [],
   "source": [
    "import numpy as np\n",
    "import random\n",
    "\n",
    "\n",
    "def simulate(transitions):\n",
    "    random.seed(123)\n",
    "    state_sequence = []\n",
    "    current = 'A'\n",
    "    for i in range(1999):\n",
    "        state_sequence += current\n",
    "        current = random.choice(list(transitions[current]))\n",
    "    return state_sequence"
   ]
  },
  {
   "cell_type": "code",
   "execution_count": 5,
   "metadata": {
    "deletable": false,
    "editable": false,
    "nbgrader": {
     "checksum": "aa9416d32d07e73f9c76c41a4a15418a",
     "grade": true,
     "grade_id": "cell-e189a7a547cbdcbc",
     "locked": true,
     "points": 5,
     "schema_version": 1,
     "solution": false
    }
   },
   "outputs": [
    {
     "name": "stdout",
     "output_type": "stream",
     "text": [
      "['A', 'B', 'F', 'E', 'F', 'B', 'A', 'B', 'F', 'G']\n"
     ]
    }
   ],
   "source": [
    "# Tests\n",
    "X = simulate(T)\n",
    "\n",
    "# Print the first 10 states\n",
    "print(X[:10])\n",
    "assert type(X) == list\n",
    "assert type(X[0]) == str\n"
   ]
  },
  {
   "cell_type": "markdown",
   "metadata": {},
   "source": [
    "Implement a function that returns a list of the relative frequencies of each state."
   ]
  },
  {
   "cell_type": "code",
   "execution_count": 6,
   "metadata": {
    "deletable": false,
    "nbgrader": {
     "checksum": "a8da54ce165c90427b3ae3746ebd9e35",
     "grade": false,
     "grade_id": "cell-d2abc424da288db8",
     "locked": false,
     "schema_version": 1,
     "solution": true
    }
   },
   "outputs": [
    {
     "name": "stdout",
     "output_type": "stream",
     "text": [
      "[0.09904952476238119, 0.1485742871435718, 0.1520760380190095, 0.10455227613806903, 0.10105052526263132, 0.1500750375187594, 0.1455727863931966, 0.09904952476238119]\n"
     ]
    }
   ],
   "source": [
    "# Histogram of states in a given sequence\n",
    "def compute_histogram(state_sequence):\n",
    "    distinct = set(state_sequence)\n",
    "    distinct = sorted(list(distinct))\n",
    "    histogram = [state_sequence.count(letter)/1999 for letter in distinct]\n",
    "    return histogram\n",
    "print(compute_histogram(X))"
   ]
  },
  {
   "cell_type": "code",
   "execution_count": 7,
   "metadata": {
    "deletable": false,
    "editable": false,
    "nbgrader": {
     "checksum": "c8fc93b2381e15839a97a2e3f3bc047d",
     "grade": true,
     "grade_id": "cell-a083af994b2e82c2",
     "locked": true,
     "points": 10,
     "schema_version": 1,
     "solution": false
    }
   },
   "outputs": [],
   "source": [
    "h = compute_histogram(X)\n",
    "assert type(h) == list\n",
    "\n",
    "# Check if the histogram is a valid probability distribution\n",
    "import numpy\n",
    "assert numpy.sum(h) == 1.0\n"
   ]
  },
  {
   "cell_type": "markdown",
   "metadata": {},
   "source": [
    "Using the above `compute_histogram` function, produce a bar plot sing `matplotlib` (`matplotlib.pyplot.bar`) showing the fraction of the time the particle is found in a given state, averaged over the whole simulation. "
   ]
  },
  {
   "cell_type": "code",
   "execution_count": 8,
   "metadata": {
    "deletable": false,
    "editable": false,
    "nbgrader": {
     "checksum": "d608e57df6924ba9dee866dc47d210f5",
     "grade": false,
     "grade_id": "cell-276368320dfd6826",
     "locked": true,
     "schema_version": 1,
     "solution": false
    }
   },
   "outputs": [],
   "source": [
    "import matplotlib.pyplot as plt\n",
    "import numpy"
   ]
  },
  {
   "cell_type": "code",
   "execution_count": 9,
   "metadata": {
    "deletable": false,
    "nbgrader": {
     "checksum": "96fa032741bb1386146011a02c3e733e",
     "grade": true,
     "grade_id": "cell-4e935488f89005fd",
     "locked": false,
     "points": 5,
     "schema_version": 1,
     "solution": true
    }
   },
   "outputs": [],
   "source": [
    "def plot_histogram(histogram):\n",
    "    plt.bar(list(S), histogram)\n",
    "    plt.xlabel('State')\n",
    "    plt.ylabel('Relative Frecuency')"
   ]
  },
  {
   "cell_type": "code",
   "execution_count": 10,
   "metadata": {
    "deletable": false,
    "editable": false,
    "nbgrader": {
     "checksum": "66e5bd45afd902b155c640bdada96ac0",
     "grade": false,
     "grade_id": "cell-8adc44a487ec126c",
     "locked": true,
     "schema_version": 1,
     "solution": false
    }
   },
   "outputs": [
    {
     "data": {
      "image/png": "[encoded data removed]",
      "text/plain": [
       "<Figure size 432x288 with 1 Axes>"
      ]
     },
     "metadata": {
      "needs_background": "light"
     },
     "output_type": "display_data"
    }
   ],
   "source": [
    "# Plot the histogram of the above defined sequence X\n",
    "h = compute_histogram(X)\n",
    "plot_histogram(h)"
   ]
  },
  {
   "cell_type": "markdown",
   "metadata": {
    "collapsed": true
   },
   "source": [
    "## Exercise 2: Adding a special state (20 P)\n",
    "\n",
    "Suppose now that the rule (defined by the transition dictionary) is modified such that everytime the particle is in state `F`, it always moves to `E` in the next step.\n",
    "\n",
    "* Modify the code to handle this special case, and create a bar plot for the new states distribution. Make sure to not modify the original transition dictionary. To achieve this, you can have a look at the `copy` module, but every working solution is accepted."
   ]
  },
  {
   "cell_type": "code",
   "execution_count": 11,
   "metadata": {
    "deletable": false,
    "nbgrader": {
     "checksum": "950fcfac75fe84b486695243e25d8651",
     "grade": false,
     "grade_id": "cell-b23ac9c3c7d18076",
     "locked": false,
     "schema_version": 1,
     "solution": true
    }
   },
   "outputs": [],
   "source": [
    "import copy\n",
    "def modify_transitions(transitions):\n",
    "    TM = copy.copy(T)\n",
    "    TM.update({'F': 'E'})\n",
    "    new_transitions = TM\n",
    "    return new_transitions"
   ]
  },
  {
   "cell_type": "code",
   "execution_count": 12,
   "metadata": {
    "deletable": false,
    "editable": false,
    "nbgrader": {
     "checksum": "f911c9cb1491ede23b597e4b1b676cb6",
     "grade": false,
     "grade_id": "cell-8034873fab5ed4dd",
     "locked": true,
     "schema_version": 1,
     "solution": false
    }
   },
   "outputs": [
    {
     "data": {
      "image/png": "[encoded data removed]",
      "text/plain": [
       "<Figure size 432x288 with 1 Axes>"
      ]
     },
     "metadata": {
      "needs_background": "light"
     },
     "output_type": "display_data"
    }
   ],
   "source": [
    "new_T = modify_transitions(T)\n",
    "new_X = simulate(new_T)\n",
    "h = compute_histogram(new_X)\n",
    "plot_histogram(h)"
   ]
  },
  {
   "cell_type": "code",
   "execution_count": 13,
   "metadata": {
    "deletable": false,
    "editable": false,
    "nbgrader": {
     "checksum": "c45c6468980607136b520b72469ecbfa",
     "grade": true,
     "grade_id": "cell-4c8eda5748d2ac39",
     "locked": true,
     "points": 20,
     "schema_version": 1,
     "solution": false
    }
   },
   "outputs": [
    {
     "name": "stdout",
     "output_type": "stream",
     "text": [
      "{'A': 'BE', 'B': 'AFC', 'C': 'BGD', 'D': 'CH', 'E': 'AF', 'F': 'EBG', 'G': 'FCH', 'H': 'GD'}\n",
      "{'A': 'BE', 'B': 'AFC', 'C': 'BGD', 'D': 'CH', 'E': 'AF', 'F': 'E', 'G': 'FCH', 'H': 'GD'}\n"
     ]
    }
   ],
   "source": [
    "# Tests\n",
    "new_T = modify_transitions(T)\n",
    "print(T)\n",
    "print(new_T)\n",
    "assert type(new_T) == dict\n",
    "assert new_T['F'] == 'E'"
   ]
  },
  {
   "cell_type": "markdown",
   "metadata": {},
   "source": [
    "## Exercise 3: Exact solution to the previous exercise (20 P)\n",
    "\n",
    "For simple Markov chains, a number of statistics can be obtained analytically from the structure of the transition model, in particular, by analysis of the transition matrix.\n",
    "\n",
    "* Compute the transition matrices associated to the models of exercise 1 and 2 (make sure that each row in these matrices sums to 1).\n",
    "* Give the transition matrices as argument to the function `utils.getstationary(P)` and return their result.\n",
    "\n",
    "This last function computes in closed form the stationary distribution associated to a given transition matrix `P` (i.e. the one we would get if running the simulation with such transition matrix for infinitely many time steps and looking at state frequencies)."
   ]
  },
  {
   "cell_type": "code",
   "execution_count": 14,
   "metadata": {
    "deletable": false,
    "nbgrader": {
     "checksum": "fc2c6033325e0749184855aa9e1f8288",
     "grade": false,
     "grade_id": "cell-e04eeaf399e5473f",
     "locked": false,
     "schema_version": 1,
     "solution": true
    }
   },
   "outputs": [],
   "source": [
    "def to_matrix(transition):\n",
    "    matrix = np.zeros((len(transition.keys()), len(transition.keys())))\n",
    "    keys = sorted(list(transition.keys()))\n",
    "    for key in keys:\n",
    "        values = list(transition[key])\n",
    "        for value in values:\n",
    "            matrix[keys.index(key)][keys.index(value)] = 1/len(values)\n",
    "    return matrix"
   ]
  },
  {
   "cell_type": "code",
   "execution_count": 15,
   "metadata": {
    "deletable": false,
    "nbgrader": {
     "checksum": "fb9cf8bd09820456777ea8776b1e8269",
     "grade": false,
     "grade_id": "cell-16d4205430adc58c",
     "locked": false,
     "schema_version": 1,
     "solution": true
    }
   },
   "outputs": [],
   "source": [
    "import utils\n",
    "def get_stationary(matrix):\n",
    "    return utils.getstationary(matrix)"
   ]
  },
  {
   "cell_type": "code",
   "execution_count": 16,
   "metadata": {
    "deletable": false,
    "editable": false,
    "nbgrader": {
     "checksum": "fdee3917ad81fbbb28f68a2dfb5e883c",
     "grade": true,
     "grade_id": "cell-c56cbb51974a1435",
     "locked": true,
     "points": 20,
     "schema_version": 1,
     "solution": false
    }
   },
   "outputs": [
    {
     "name": "stdout",
     "output_type": "stream",
     "text": [
      "[[0.   0.5  0.   0.   0.5  0.   0.   0.  ]\n",
      " [0.33 0.   0.33 0.   0.   0.33 0.   0.  ]\n",
      " [0.   0.33 0.   0.33 0.   0.   0.33 0.  ]\n",
      " [0.   0.   0.5  0.   0.   0.   0.   0.5 ]\n",
      " [0.5  0.   0.   0.   0.   0.5  0.   0.  ]\n",
      " [0.   0.33 0.   0.   0.33 0.   0.33 0.  ]\n",
      " [0.   0.   0.33 0.   0.   0.33 0.   0.33]\n",
      " [0.   0.   0.   0.5  0.   0.   0.5  0.  ]]\n",
      "[0.1  0.15 0.15 0.1  0.1  0.15 0.15 0.1 ]\n"
     ]
    },
    {
     "name": "stderr",
     "output_type": "stream",
     "text": [
      "C:\\Users\\Sylwester\\Documents\\Studium\\Kognitive mit PyMl\\pythonForMachineLearning\\Week4\\Sylwester\\utils.py:7: FutureWarning: `rcond` parameter will change to the default of machine precision times ``max(M, N)`` where M and N are the input matrix dimensions.\n",
      "To use the future default and silence this warning we advise to pass `rcond=None`, to keep using the old, explicitly pass `rcond=-1`.\n",
      "  return numpy.linalg.lstsq(A,b)[0]\n"
     ]
    }
   ],
   "source": [
    "# Tests\n",
    "matrix_T = to_matrix(T)\n",
    "import numpy\n",
    "print(numpy.round(matrix_T, 2))\n",
    "assert type(matrix_T) == numpy.ndarray\n",
    "assert numpy.sum(matrix_T, axis=1).all() == 1.0\n",
    "print(numpy.round(get_stationary(matrix_T), 3))"
   ]
  },
  {
   "cell_type": "markdown",
   "metadata": {},
   "source": [
    "## Exercise 4: Adding non-uniform transition probabilities (20 P)\n",
    "\n",
    "We consider the original lattice defined by the variable `T`. We set transition probabilities for each state to be such that:\n",
    "\n",
    "1. The probability of moving vertically is the same as the probability of moving horizontally for states that have only two connections.\n",
    "2. For states with 3 connections the probability of moving vertically is 0.5 while the probability of moving left is always twice the probability of moving right.\n",
    "\n",
    "\n",
    "Build the transition matrix `P` implementing the described behavior and compute its stationary distribution using the function `utils.getstationary(P)`.\n",
    "\n",
    "(Hints: You can notice that for each state, the transitions towards other states are always listed from left to right in the dictionary `T`. Also note that characters A-H can be mapped to integer values using the Python function ord(), thus, giving a direct relation between state names and indices of the transition matrix.)"
   ]
  },
  {
   "cell_type": "code",
   "execution_count": 17,
   "metadata": {
    "deletable": false,
    "nbgrader": {
     "checksum": "4f4c6ef69b197d34f6270e7234f2305b",
     "grade": false,
     "grade_id": "cell-1560bb06a55de020",
     "locked": false,
     "schema_version": 1,
     "solution": true
    }
   },
   "outputs": [],
   "source": [
    "def build_transition_matrix():\n",
    "    matrix = np.zeros((len(T.keys()), len(T.keys())))\n",
    "    keys = sorted(list(T.keys()))\n",
    "    for key in keys:\n",
    "        values = list(T[key])\n",
    "        if len(values) == 2:\n",
    "            for value in values:\n",
    "                matrix[keys.index(key)][keys.index(value)] = 1/len(values)\n",
    "        else: \n",
    "            for value in values:\n",
    "                if abs(ord(key)-ord(value)) > 1:\n",
    "                    matrix[keys.index(key)][keys.index(value)] = 0.5\n",
    "                elif ord(key) < ord(value):\n",
    "                    matrix[keys.index(key)][keys.index(value)] = 0.5 * (1/3)\n",
    "                else:\n",
    "                     matrix[keys.index(key)][keys.index(value)] = 0.5 * (2/3)\n",
    "    transition_matrix = matrix\n",
    "    return transition_matrix"
   ]
  },
  {
   "cell_type": "code",
   "execution_count": 48,
   "metadata": {
    "deletable": false,
    "nbgrader": {
     "checksum": "8d3a4a95d8e921fa79183399cd810b16",
     "grade": false,
     "grade_id": "cell-1372454f11ea49ff",
     "locked": false,
     "schema_version": 1,
     "solution": true
    }
   },
   "outputs": [
    {
     "name": "stdout",
     "output_type": "stream",
     "text": [
      "(8, 8)\n",
      "[0.14285714 0.21428571 0.10714286 0.03571429 0.14285714 0.21428571\n",
      " 0.10714286 0.03571429]\n"
     ]
    },
    {
     "name": "stderr",
     "output_type": "stream",
     "text": [
      "C:\\Users\\Sylwester\\Documents\\Studium\\Kognitive mit PyMl\\pythonForMachineLearning\\Week4\\Sylwester\\utils.py:7: FutureWarning: `rcond` parameter will change to the default of machine precision times ``max(M, N)`` where M and N are the input matrix dimensions.\n",
      "To use the future default and silence this warning we advise to pass `rcond=None`, to keep using the old, explicitly pass `rcond=-1`.\n",
      "  return numpy.linalg.lstsq(A,b)[0]\n"
     ]
    }
   ],
   "source": [
    "P = build_transition_matrix()\n",
    "print(P.shape)\n",
    "stationary = get_stationary(P)\n",
    "print(stationary)"
   ]
  },
  {
   "cell_type": "code",
   "execution_count": 19,
   "metadata": {
    "deletable": false,
    "editable": false,
    "nbgrader": {
     "checksum": "c95399b4a95a5ef405667d54ecd03250",
     "grade": true,
     "grade_id": "cell-cceb43e3ed998bfe",
     "locked": true,
     "points": 20,
     "schema_version": 1,
     "solution": false
    }
   },
   "outputs": [
    {
     "name": "stdout",
     "output_type": "stream",
     "text": [
      "[[0.   0.5  0.   0.   0.5  0.   0.   0.  ]\n",
      " [0.33 0.   0.17 0.   0.   0.5  0.   0.  ]\n",
      " [0.   0.33 0.   0.17 0.   0.   0.5  0.  ]\n",
      " [0.   0.   0.5  0.   0.   0.   0.   0.5 ]\n",
      " [0.5  0.   0.   0.   0.   0.5  0.   0.  ]\n",
      " [0.   0.5  0.   0.   0.33 0.   0.17 0.  ]\n",
      " [0.   0.   0.5  0.   0.   0.33 0.   0.17]\n",
      " [0.   0.   0.   0.5  0.   0.   0.5  0.  ]]\n"
     ]
    }
   ],
   "source": [
    "# Tests\n",
    "P = build_transition_matrix()\n",
    "print(numpy.round(P, 2))\n",
    "assert type(P) == numpy.ndarray\n",
    "assert numpy.sum(P, axis=1).all() == 1.0"
   ]
  },
  {
   "cell_type": "markdown",
   "metadata": {},
   "source": [
    "## Exercise 5: Simulation for multiple particles (20 P)\n",
    "\n",
    "We let 1000 particles evolve simultaneously in the system described in Exercise 4. The initial state of these particles is pseudo-random and given by the function `utils.getinitialstate()`.\n",
    "\n",
    "* Using the function `utils.mcstep()` that was introduced during the lecture, simulate this system for 500 time steps.\n",
    "* Estimate the stationary distribution by looking at the distribution of these particles in state space after 500 time steps.\n",
    "\n",
    "For reproducibility, give seed values to the function utils.mcstep corresponding to the current time step of the simulation (i.e. from 0 to 499)."
   ]
  },
  {
   "cell_type": "code",
   "execution_count": 51,
   "metadata": {
    "deletable": false,
    "nbgrader": {
     "checksum": "003c2c402dec96e9ae70a8feed8bef6a",
     "grade": false,
     "grade_id": "cell-2af098b516309a41",
     "locked": false,
     "schema_version": 1,
     "solution": true
    }
   },
   "outputs": [],
   "source": [
    "import utils\n",
    "\n",
    "def simulate_1000():\n",
    "    initial = utils.getinitialstate()\n",
    "    P = build_transition_matrix()\n",
    "    pad_shape = ((0, 0), (1, 0))\n",
    "    P = np.pad(P, pad_shape, mode='constant')\n",
    "    for i in range(499):\n",
    "        steps = utils.mcstep(initial, P, i)\n",
    "    estimated_stationary_distribution = steps.mean(axis=0)\n",
    "    return estimated_stationary_distribution"
   ]
  },
  {
   "cell_type": "code",
   "execution_count": 52,
   "metadata": {
    "deletable": false,
    "editable": false,
    "nbgrader": {
     "checksum": "7671a8c9e97941dabdce30cbbaae19ea",
     "grade": true,
     "grade_id": "cell-621b6e15bfc77266",
     "locked": true,
     "points": 20,
     "schema_version": 1,
     "solution": false
    }
   },
   "outputs": [
    {
     "name": "stdout",
     "output_type": "stream",
     "text": [
      "[0.1   0.165 0.139 0.093 0.087 0.183 0.152 0.081]\n"
     ]
    }
   ],
   "source": [
    "# Tests\n",
    "stationary_distribution = simulate_1000()\n",
    "print(stationary_distribution)\n",
    "import numpy\n",
    "assert numpy.sum(stationary_distribution) == 1"
   ]
  }
 ],
 "metadata": {
  "kernelspec": {
   "display_name": "Python 3",
   "language": "python",
   "name": "python3"
  },
  "language_info": {
   "codemirror_mode": {
    "name": "ipython",
    "version": 3
   },
   "file_extension": ".py",
   "mimetype": "text/x-python",
   "name": "python",
   "nbconvert_exporter": "python",
   "pygments_lexer": "ipython3",
   "version": "3.6.6"
  }
 },
 "nbformat": 4,
 "nbformat_minor": 1
}
