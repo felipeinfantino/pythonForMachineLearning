{
 "cells": [
  {
   "cell_type": "markdown",
   "metadata": {},
   "source": [
    "## Before submitting\n",
    "1. Before you turn this problem in, make sure everything runs as expected. First, **restart the kernel** (in the menubar, select Kernel$\\rightarrow$Restart) and then **run all cells** (in the menubar, select Cell$\\rightarrow$Run All).\n",
    "\n",
    "2. Make sure that no assertions fail or exceptions occur, otherwise points will be subtracted.\n",
    "\n",
    "3. Please submit only the `*.ipynb` file.\n",
    "\n",
    "4. Make sure you fill in any place that says `YOUR CODE HERE` or \"YOUR ANSWER HERE\". Edit only between `YOUR CODE HERE` and `END YOUR CODE`.\n",
    "\n",
    "5. Make sure to use Python 3, not Python 2.\n",
    "\n",
    "Fill your group name and collaborators below:"
   ]
  },
  {
   "cell_type": "code",
   "execution_count": 1,
   "metadata": {},
   "outputs": [],
   "source": [
    "GROUPNAME = \"\"\n",
    "COLLABORATORS = \"\""
   ]
  },
  {
   "cell_type": "markdown",
   "metadata": {},
   "source": [
    "---"
   ]
  },
  {
   "cell_type": "markdown",
   "metadata": {},
   "source": [
    "# Exercise Sheet 1: Python Basics\n",
    "\n",
    "This first  exercise sheet tests the basic functionalities of the Python programming language in the context of a simple prediction task. We consider the problem of predicting health risk of subjects from personal data and habits. We first use for this task a decision tree\n",
    "\n",
    "![](tree.png)\n",
    "\n",
    "adapted from the webpage http://www.refactorthis.net/post/2013/04/10/Machine-Learning-tutorial-How-to-create-a-decision-tree-in-RapidMiner-using-the-Titanic-passenger-data-set.aspx. For this exercise sheet, you are required to use only pure Python, and to not import any module, including numpy. In exercise sheet 2, the nearest neighbor part of this exercise sheet will be revisited with numpy."
   ]
  },
  {
   "cell_type": "markdown",
   "metadata": {},
   "source": [
    "## Classifying a single instance (15 P)\n",
    "\n",
    "* Create a function that takes as input a tuple containing values for attributes (smoker,age,diet), and computes the output of the decision tree. Should return `\"less\"` or `\"more\"`.\n",
    "* Test your function on the tuple `('yes', 31, 'good')`,"
   ]
  },
  {
   "cell_type": "code",
   "execution_count": 248,
   "metadata": {
    "deletable": false,
    "nbgrader": {
     "checksum": "f3e47f689550d7323b8965c76a70298d",
     "grade": false,
     "grade_id": "cell-b66d7278bc313c94",
     "locked": false,
     "schema_version": 1,
     "solution": true
    }
   },
   "outputs": [],
   "source": [
    "def decision(x):\n",
    "# if Machine Learning == true\n",
    "#    if((x[0] == 'yes' and x[1] < 29.5) or (x[0] != 'yes' and x[2] == 'good')):\n",
    "#        return 'less';\n",
    "#    else:\n",
    "#        return 'more';\n",
    "\n",
    "    if x[0] == 'yes':\n",
    "        if x[1] < 29.5:\n",
    "            decision = 'less'\n",
    "        else:\n",
    "            decision = 'more'\n",
    "    else:\n",
    "        if x[2] == 'good':\n",
    "            decision = 'less'\n",
    "        else:\n",
    "            decision = 'more'\n",
    "    return decision\n"
   ]
  },
  {
   "cell_type": "code",
   "execution_count": 249,
   "metadata": {
    "deletable": false,
    "editable": false,
    "nbgrader": {
     "checksum": "c0559abdef335108b9edbb4ea3011c4c",
     "grade": true,
     "grade_id": "cell-c31b80471db3132f",
     "locked": true,
     "points": 15,
     "schema_version": 1,
     "solution": false
    }
   },
   "outputs": [],
   "source": [
    "# Test\n",
    "x = ('yes', 31, 'good')\n",
    "assert decision(x) == 'more'\n"
   ]
  },
  {
   "cell_type": "code",
   "execution_count": null,
   "metadata": {},
   "outputs": [],
   "source": []
  },
  {
   "cell_type": "markdown",
   "metadata": {},
   "source": [
    "## Reading a dataset from a text file (10 P)\n",
    "\n",
    "The file `health-test.txt` contains several fictious records of personal data and habits.\n",
    "\n",
    "* Read the file automatically using the methods introduced during the lecture.\n",
    "* Represent the dataset as a list of tuples. Make sure that the tuples have the same format as above, e.g. `('yes', 31, 'good')`.\n",
    "* Make extra note of the datatype of each element"
   ]
  },
  {
   "cell_type": "code",
   "execution_count": 250,
   "metadata": {
    "deletable": false,
    "nbgrader": {
     "checksum": "8217159008caa1db2f6649e3ed092d9f",
     "grade": false,
     "grade_id": "cell-c1a8bc4c0e4ccb26",
     "locked": false,
     "schema_version": 1,
     "solution": true
    }
   },
   "outputs": [],
   "source": [
    "# what does 'Make extra note of the datatype of each element' mean?\n",
    "def gettest():\n",
    "    with open('health-test.txt', 'r') as file:\n",
    "        dataset = list()\n",
    "        for line in file:\n",
    "            smoker, age, diet = line.split(',')\n",
    "            dataset.append((smoker, eval(age), diet.rstrip()))\n",
    "        return dataset\n",
    "\n",
    "gettest();"
   ]
  },
  {
   "cell_type": "code",
   "execution_count": null,
   "metadata": {
    "deletable": false,
    "editable": false,
    "nbgrader": {
     "checksum": "5a6c609343f9b1d4bb9e02d4cc0abc2e",
     "grade": true,
     "grade_id": "cell-4e1f7ad1e66b3121",
     "locked": true,
     "points": 10,
     "schema_version": 1,
     "solution": false
    }
   },
   "outputs": [],
   "source": []
  },
  {
   "cell_type": "markdown",
   "metadata": {},
   "source": [
    "## Applying the decision tree to the dataset (15 P)\n",
    "\n",
    "* Apply the decision tree to all points in the dataset, and return the ratio of them that are classified as \"more\"."
   ]
  },
  {
   "cell_type": "code",
   "execution_count": 251,
   "metadata": {
    "deletable": false,
    "nbgrader": {
     "checksum": "6a8ebad6d019805a1f317cd25c329cff",
     "grade": false,
     "grade_id": "cell-6703ef98e2b5c93b",
     "locked": false,
     "schema_version": 1,
     "solution": true
    }
   },
   "outputs": [],
   "source": [
    "def evaluate_testset():\n",
    "    dataset = gettest()\n",
    "    classifiedData = list()\n",
    "    for point in dataset:\n",
    "        classifiedData.append(decision(point))\n",
    "    return (classifiedData.count('more')/len(classifiedData))"
   ]
  },
  {
   "cell_type": "code",
   "execution_count": null,
   "metadata": {
    "deletable": false,
    "editable": false,
    "nbgrader": {
     "checksum": "2cf754f1f4a98838c63a6840e15ae198",
     "grade": true,
     "grade_id": "cell-c13a0b23c9faba52",
     "locked": true,
     "points": 15,
     "schema_version": 1,
     "solution": false
    }
   },
   "outputs": [],
   "source": []
  },
  {
   "cell_type": "markdown",
   "metadata": {},
   "source": [
    "## Learning from examples (10 P)\n",
    "\n",
    "Suppose that instead of relying on a fixed decision tree, we would like to use a data-driven approach where data points are classified based on a set of training observations manually labeled by experts. Such labeled dataset is available in the file `health-train.txt`. The first three columns have the same meaning than for `health-test.txt`, and the last column corresponds to the labels.\n",
    "\n",
    "* Write a procedure that reads this file and converts it into a list of pairs. The first element of each pair is a triplet of attributes, and the second element is the label."
   ]
  },
  {
   "cell_type": "code",
   "execution_count": 252,
   "metadata": {
    "deletable": false,
    "nbgrader": {
     "checksum": "e6de29aa89d0457a5c0aeb5d7123a2ef",
     "grade": false,
     "grade_id": "cell-fc38ed11fee6fbeb",
     "locked": false,
     "schema_version": 1,
     "solution": true
    }
   },
   "outputs": [],
   "source": [
    "def gettrain():\n",
    "    with open('health-train.txt', 'r') as file:\n",
    "        dataset = list()\n",
    "        for line in file:\n",
    "            smoker, age, diet, label = line.split(',')\n",
    "            dataset.append(((smoker, eval(age), diet), label.rstrip()))\n",
    "        return dataset"
   ]
  },
  {
   "cell_type": "code",
   "execution_count": null,
   "metadata": {
    "deletable": false,
    "editable": false,
    "nbgrader": {
     "checksum": "925716f474f7b0e3a7892e1aebfa217e",
     "grade": true,
     "grade_id": "cell-a3d593f232e0403a",
     "locked": true,
     "points": 10,
     "schema_version": 1,
     "solution": false
    }
   },
   "outputs": [],
   "source": []
  },
  {
   "cell_type": "markdown",
   "metadata": {},
   "source": [
    "## Nearest neighbor classifier (25 P)\n",
    "\n",
    "We consider the nearest neighbor algorithm that classifies test points following the label of the nearest neighbor in the training data. For this, we need to define a distance function between data points. We define it to be\n",
    "\n",
    "`d(a, b) = (a[0] != b[0]) + ((a[1] - b[1]) / 50.0) ** 2 + (a[2] != b[2])`\n",
    "\n",
    "where `a` and `b` are two tuples corrsponding to the attributes of two data points.\n",
    "\n",
    "* Write a function that retrieves for a test point the nearest neighbor in the training set, and classifies the test point accordingly.\n",
    "* Test your function on the tuple `('yes', 31, 'good')`"
   ]
  },
  {
   "cell_type": "code",
   "execution_count": 253,
   "metadata": {
    "deletable": false,
    "nbgrader": {
     "checksum": "87751ef965d915307f761da8071a184f",
     "grade": false,
     "grade_id": "cell-671ea24ec8a11241",
     "locked": false,
     "schema_version": 1,
     "solution": true
    }
   },
   "outputs": [],
   "source": [
    "def distanceNormal(a, b):\n",
    "    return (a[0] != b[0]) + ((a[1] - b[1]) / 50.0) ** 2 + (a[2] != b[2])\n",
    "\n",
    "def neighbor(x, trainset):\n",
    "    distances = list()\n",
    "    for point in trainset:\n",
    "        distances.append(distanceNormal(x, point[0]))\n",
    "    return trainset[distances.index(min(distances))][1]"
   ]
  },
  {
   "cell_type": "code",
   "execution_count": 254,
   "metadata": {
    "deletable": false,
    "editable": false,
    "nbgrader": {
     "checksum": "528146e447a25173480343d5fb7fd585",
     "grade": true,
     "grade_id": "cell-a36122337853f195",
     "locked": true,
     "points": 15,
     "schema_version": 1,
     "solution": false
    }
   },
   "outputs": [],
   "source": [
    "# Test\n",
    "x = ('yes', 31, 'good')\n",
    "assert neighbor(x, gettrain()) == \"more\"\n"
   ]
  },
  {
   "cell_type": "markdown",
   "metadata": {},
   "source": [
    "* Apply both the decision tree and nearest neighbor classifiers on the test set, and return the list of data point(s) for which the two classifiers disagree, and with which probability it happens.\n",
    "* A data point should look like above, e.g. `('yes', 31, 'good')`."
   ]
  },
  {
   "cell_type": "code",
   "execution_count": 255,
   "metadata": {
    "deletable": false,
    "nbgrader": {
     "checksum": "d26e5477527236f7db5c7cb6f8589c3a",
     "grade": false,
     "grade_id": "cell-8dbf7da153f3d797",
     "locked": false,
     "schema_version": 1,
     "solution": true
    }
   },
   "outputs": [],
   "source": [
    "def compare():\n",
    "    testSet = gettest()\n",
    "    trainSet = gettrain()\n",
    "    classifiedData = list()\n",
    "    neighborData = list()\n",
    "    Xdisagree = list()\n",
    "    for point in testSet:\n",
    "        classifiedData.append(decision(point))\n",
    "        neighborData.append(neighbor(point, trainSet))\n",
    "    for i in range(len(classifiedData)):\n",
    "        if(classifiedData[i] != neighborData[i]):\n",
    "            Xdisagree.append(testSet[i])\n",
    "    probability = len(Xdisagree)/len(classifiedData)\n",
    "    return Xdisagree, probability"
   ]
  },
  {
   "cell_type": "code",
   "execution_count": 256,
   "metadata": {
    "deletable": false,
    "editable": false,
    "nbgrader": {
     "checksum": "aa0b2ace7df5181b0528208ca0cc0dcc",
     "grade": true,
     "grade_id": "cell-3b55f7e89ad4dfeb",
     "locked": true,
     "points": 10,
     "schema_version": 1,
     "solution": false
    }
   },
   "outputs": [
    {
     "name": "stdout",
     "output_type": "stream",
     "text": [
      "[('yes', 51, 'good')]\n"
     ]
    }
   ],
   "source": [
    "Xdisagree, probability = compare()\n",
    "assert type(Xdisagree) == list\n",
    "print(Xdisagree)\n",
    "assert probability >= 0.0 and probability <= 1.0"
   ]
  },
  {
   "cell_type": "markdown",
   "metadata": {},
   "source": [
    "One problem of simple nearest neighbors is that one needs to compare the point to predict to all data points in the training set. This can be slow for datasets of thousands of points or more. Alternatively, some classifiers train a model first, and then use it to classify the data.\n",
    "\n",
    "## Nearest mean classifier (25 P)\n",
    "\n",
    "We consider one such trainable model, which operates in two steps:\n",
    "\n",
    "(1) Compute the average point for each class, (2) classify new points to be of the class whose average point is nearest to the point to predict.\n",
    "\n",
    "For this classifier, we convert the attributes smoker and diet to real values (for smoker: yes=1.0 and no=0.0, and for diet: good=0.0 and poor=1.0), and use the modified distance function:\n",
    "\n",
    "`d(a,b) = (a[0] - b[0]) ** 2 + ((a[1] - b[1]) / 50.0) ** 2 + (a[2] - b[2]) ** 2`\n",
    "\n",
    "We adopt an object-oriented approach for building this classifier.\n",
    "\n",
    "* Implement the methods `train` and `predict` of the class `NearestMeanClassifier`."
   ]
  },
  {
   "cell_type": "code",
   "execution_count": 257,
   "metadata": {
    "deletable": false,
    "nbgrader": {
     "checksum": "303bfe831913b6c12d012e06b0815e0c",
     "grade": false,
     "grade_id": "cell-e0b339bfd0fcc16c",
     "locked": false,
     "schema_version": 1,
     "solution": true
    }
   },
   "outputs": [],
   "source": [
    "def distance(a,b):\n",
    "    return (a[0] - b[0]) ** 2 + ((a[1] - b[1]) / 50.0) ** 2 + (a[2] - b[2]) ** 2\n",
    "\n",
    "def convert(dataset):\n",
    "    newDataset = list()\n",
    "    for labeledPoint in dataset:\n",
    "        point = list(labeledPoint[0])\n",
    "        point[0] = 1.0 if (point[0] == 'yes') else 0.0 \n",
    "        point[2] = 1.0 if (point[2] == 'poor') else 0.0\n",
    "        labeledPoint = list(labeledPoint)\n",
    "        labeledPoint[0] = list(labeledPoint[0])\n",
    "        labeledPoint[0] = tuple(point)\n",
    "        labeledPoint[0] = tuple(labeledPoint[0])\n",
    "        labeledPoint = tuple(labeledPoint)\n",
    "        newDataset.append(labeledPoint)\n",
    "    return newDataset\n",
    "\n",
    "class NearestMeanClassifier:\n",
    "    def train(self, dataset):\n",
    "        dataset = convert(dataset)\n",
    "        countLess = sum(1 for x in dataset if x[1] == 'less')\n",
    "        countMore = sum(1 for x in dataset if x[1] == 'more')\n",
    "        avgSmokerLess = sum(tupel[0][0] for tupel in dataset if tupel[1] == 'less')/countLess\n",
    "        avgAgeLess = sum(tupel[0][1] for tupel in dataset if tupel[1] == 'less')/countLess\n",
    "        avgDietLess = sum(tupel[0][2] for tupel in dataset if tupel[1] == 'less')/countLess\n",
    "        avgSmokerMore = sum(tupel[0][0] for tupel in dataset if tupel[1] == 'more')/countMore\n",
    "        avgAgeMore = sum(tupel[0][1] for tupel in dataset if tupel[1] == 'more')/countMore\n",
    "        avgDietMore = sum(tupel[0][2] for tupel in dataset if tupel[1] == 'more')/countMore\n",
    "        self.avgLess = ((avgSmokerLess, avgAgeLess, avgDietLess), 'less')\n",
    "        self.avgMore = ((avgSmokerMore, avgAgeMore, avgDietMore), 'more')\n",
    "        \n",
    "    def predict(self, x):\n",
    "        newDataset = list()\n",
    "        for point in x:\n",
    "            point = list(point)\n",
    "            point[0] = 1.0 if (point[0] == 'yes') else 0.0 \n",
    "            point[2] = 1.0 if (point[2] == 'poor') else 0.0\n",
    "            point = tuple(point)\n",
    "            newDataset.append(point)\n",
    "        prediction = list()\n",
    "        for point in newDataset:\n",
    "            prediction.append((point, 'more' if (distance(self.avgMore[0], point) < distance(self.avgLess[0], point)) else 'less'))\n",
    "        return prediction"
   ]
  },
  {
   "cell_type": "markdown",
   "metadata": {},
   "source": [
    "* Build an object of class `NearestMeanClassifier`, train it on the training data, and return the mean vector for each class. You should return a dictionary with keys `less` and `more`. Each key should correspond to a mean vector."
   ]
  },
  {
   "cell_type": "code",
   "execution_count": 258,
   "metadata": {
    "deletable": false,
    "nbgrader": {
     "checksum": "e41c5c9134feb3a505677bc939acc25d",
     "grade": false,
     "grade_id": "cell-5f7f00ee83c94703",
     "locked": false,
     "schema_version": 1,
     "solution": true
    }
   },
   "outputs": [
    {
     "data": {
      "text/plain": [
       "{'less': (0.3333333333333333, 32.111111111111114, 0.2222222222222222),\n",
       " 'more': (0.5714285714285714, 37.142857142857146, 0.5714285714285714)}"
      ]
     },
     "execution_count": 258,
     "metadata": {},
     "output_type": "execute_result"
    }
   ],
   "source": [
    "def build_and_train():\n",
    "    classifierObject = NearestMeanClassifier()\n",
    "    classifierObject.train(gettrain())\n",
    "    trainedDictionary = {'less':t.avgLess[0], 'more':t.avgMore[0]}\n",
    "    return trainedDictionary\n",
    "    \n",
    "build_and_train()"
   ]
  },
  {
   "cell_type": "code",
   "execution_count": null,
   "metadata": {
    "deletable": false,
    "editable": false,
    "nbgrader": {
     "checksum": "686cebaaedb7e41b87361a8408661ab1",
     "grade": true,
     "grade_id": "cell-415891bde4cbde19",
     "locked": true,
     "points": 15,
     "schema_version": 1,
     "solution": false
    }
   },
   "outputs": [],
   "source": []
  },
  {
   "cell_type": "markdown",
   "metadata": {},
   "source": [
    "* Predict the test data using the nearest mean classifier and return all test examples for which all three classifiers (decision tree, nearest neighbor and nearest mean) agree. You should return a list containing tuples. Each tuple should contain the datapoint and the prediction i.e.\n",
    "\n",
    "`[(('no', 50, 'good'), 'less'), ... ]`"
   ]
  },
  {
   "cell_type": "code",
   "execution_count": 259,
   "metadata": {
    "deletable": false,
    "nbgrader": {
     "checksum": "29945175006a71d97e57588c9c524df1",
     "grade": false,
     "grade_id": "cell-f37f3035a32a8f85",
     "locked": false,
     "schema_version": 1,
     "solution": true
    }
   },
   "outputs": [
    {
     "data": {
      "text/plain": [
       "[(('no', 50, 'good'), 'less'),\n",
       " (('no', 23, 'good'), 'less'),\n",
       " (('yes', 45, 'poor'), 'more'),\n",
       " (('no', 60, 'good'), 'less'),\n",
       " (('no', 15, 'poor'), 'more'),\n",
       " (('no', 18, 'good'), 'less')]"
      ]
     },
     "execution_count": 259,
     "metadata": {},
     "output_type": "execute_result"
    }
   ],
   "source": [
    "def predict_test():\n",
    "    agreed_samples = list()\n",
    "    classifiedData = list()\n",
    "    neighborData = list()\n",
    "    nearestMeanData = list()\n",
    "    testSet = gettest()\n",
    "    trainSet = gettrain()\n",
    "    nearestMean = NearestMeanClassifier()\n",
    "    nearestMean.train(trainSet)\n",
    "    nearestMeanData.extend(nearestMean.predict(testSet))\n",
    "    for point in testSet:\n",
    "        classifiedData.append(decision(point))\n",
    "        neighborData.append(neighbor(point, trainSet))\n",
    "    for i in range(len(nearestMeanData)):\n",
    "        if(nearestMeanData[i][1] == classifiedData[i] == neighborData[i]):\n",
    "            agreed_samples.append((testSet[i], decision(testSet[i])))\n",
    "    return agreed_samples\n",
    "predict_test()"
   ]
  },
  {
   "cell_type": "code",
   "execution_count": null,
   "metadata": {
    "deletable": false,
    "editable": false,
    "nbgrader": {
     "checksum": "951f7d822b4c3475ab6dc89fa3c87d46",
     "grade": true,
     "grade_id": "cell-853c957eaaf81c28",
     "locked": true,
     "points": 10,
     "schema_version": 1,
     "solution": false
    }
   },
   "outputs": [],
   "source": []
  }
 ],
 "metadata": {
  "kernelspec": {
   "display_name": "Python 3",
   "language": "python",
   "name": "python3"
  },
  "language_info": {
   "codemirror_mode": {
    "name": "ipython",
    "version": 3
   },
   "file_extension": ".py",
   "mimetype": "text/x-python",
   "name": "python",
   "nbconvert_exporter": "python",
   "pygments_lexer": "ipython3",
   "version": "3.6.6"
  }
 },
 "nbformat": 4,
 "nbformat_minor": 1
}
